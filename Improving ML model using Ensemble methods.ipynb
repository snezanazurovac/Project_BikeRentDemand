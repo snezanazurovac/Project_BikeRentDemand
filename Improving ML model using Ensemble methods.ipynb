{
 "cells": [
  {
   "cell_type": "markdown",
   "metadata": {},
   "source": [
    "# REGRESSION MODEL - ENSEMBLE METHODS\n",
    "========================================================================\n"
   ]
  },
  {
   "cell_type": "raw",
   "metadata": {},
   "source": [
    "# The goal of ensemble methods is to combine the predictions of several base estimators built with a given learning algorithm\n",
    "in order to improve generalizability / robustness over a single estimator."
   ]
  },
  {
   "cell_type": "markdown",
   "metadata": {},
   "source": [
    "# 1.Importing dataset and necessary libraris"
   ]
  },
  {
   "cell_type": "code",
   "execution_count": 1,
   "metadata": {},
   "outputs": [],
   "source": [
    "import pandas as pd\n",
    "import numpy as np\n",
    "import matplotlib\n",
    "from matplotlib import pyplot as plt\n",
    "import seaborn as sns\n",
    "import warnings\n",
    "warnings.filterwarnings('ignore')"
   ]
  },
  {
   "cell_type": "code",
   "execution_count": 2,
   "metadata": {},
   "outputs": [],
   "source": [
    "df1 = pd.read_csv('day.csv')"
   ]
  },
  {
   "cell_type": "code",
   "execution_count": 3,
   "metadata": {},
   "outputs": [],
   "source": [
    "df1.round(4)\n",
    "df=df1.copy()"
   ]
  },
  {
   "cell_type": "code",
   "execution_count": 4,
   "metadata": {},
   "outputs": [],
   "source": [
    "df.drop(['instant','casual','registered','atemp','dteday'],axis=1,inplace=True)"
   ]
  },
  {
   "cell_type": "code",
   "execution_count": 5,
   "metadata": {},
   "outputs": [],
   "source": [
    "def drop_categorical_feature(data,features_list):\n",
    "    df_modeling=data.drop(features_list, axis=1)\n",
    "    return df_modeling\n",
    "#since in dataset i have numerical values i will drop tham, and also values categorical with binar value(yr,holiday,workingday)\n",
    "numerical=['temp','hum','windspeed','cnt','yr','holiday','workingday']"
   ]
  },
  {
   "cell_type": "code",
   "execution_count": 6,
   "metadata": {},
   "outputs": [
    {
     "data": {
      "text/html": [
       "<div>\n",
       "<style scoped>\n",
       "    .dataframe tbody tr th:only-of-type {\n",
       "        vertical-align: middle;\n",
       "    }\n",
       "\n",
       "    .dataframe tbody tr th {\n",
       "        vertical-align: top;\n",
       "    }\n",
       "\n",
       "    .dataframe thead th {\n",
       "        text-align: right;\n",
       "    }\n",
       "</style>\n",
       "<table border=\"1\" class=\"dataframe\">\n",
       "  <thead>\n",
       "    <tr style=\"text-align: right;\">\n",
       "      <th></th>\n",
       "      <th>season</th>\n",
       "      <th>mnth</th>\n",
       "      <th>weekday</th>\n",
       "      <th>weathersit</th>\n",
       "    </tr>\n",
       "  </thead>\n",
       "  <tbody>\n",
       "    <tr>\n",
       "      <th>0</th>\n",
       "      <td>1</td>\n",
       "      <td>1</td>\n",
       "      <td>6</td>\n",
       "      <td>2</td>\n",
       "    </tr>\n",
       "    <tr>\n",
       "      <th>1</th>\n",
       "      <td>1</td>\n",
       "      <td>1</td>\n",
       "      <td>0</td>\n",
       "      <td>2</td>\n",
       "    </tr>\n",
       "    <tr>\n",
       "      <th>2</th>\n",
       "      <td>1</td>\n",
       "      <td>1</td>\n",
       "      <td>1</td>\n",
       "      <td>1</td>\n",
       "    </tr>\n",
       "    <tr>\n",
       "      <th>3</th>\n",
       "      <td>1</td>\n",
       "      <td>1</td>\n",
       "      <td>2</td>\n",
       "      <td>1</td>\n",
       "    </tr>\n",
       "    <tr>\n",
       "      <th>4</th>\n",
       "      <td>1</td>\n",
       "      <td>1</td>\n",
       "      <td>3</td>\n",
       "      <td>1</td>\n",
       "    </tr>\n",
       "    <tr>\n",
       "      <th>...</th>\n",
       "      <td>...</td>\n",
       "      <td>...</td>\n",
       "      <td>...</td>\n",
       "      <td>...</td>\n",
       "    </tr>\n",
       "    <tr>\n",
       "      <th>726</th>\n",
       "      <td>1</td>\n",
       "      <td>12</td>\n",
       "      <td>4</td>\n",
       "      <td>2</td>\n",
       "    </tr>\n",
       "    <tr>\n",
       "      <th>727</th>\n",
       "      <td>1</td>\n",
       "      <td>12</td>\n",
       "      <td>5</td>\n",
       "      <td>2</td>\n",
       "    </tr>\n",
       "    <tr>\n",
       "      <th>728</th>\n",
       "      <td>1</td>\n",
       "      <td>12</td>\n",
       "      <td>6</td>\n",
       "      <td>2</td>\n",
       "    </tr>\n",
       "    <tr>\n",
       "      <th>729</th>\n",
       "      <td>1</td>\n",
       "      <td>12</td>\n",
       "      <td>0</td>\n",
       "      <td>1</td>\n",
       "    </tr>\n",
       "    <tr>\n",
       "      <th>730</th>\n",
       "      <td>1</td>\n",
       "      <td>12</td>\n",
       "      <td>1</td>\n",
       "      <td>2</td>\n",
       "    </tr>\n",
       "  </tbody>\n",
       "</table>\n",
       "<p>731 rows × 4 columns</p>\n",
       "</div>"
      ],
      "text/plain": [
       "     season  mnth  weekday  weathersit\n",
       "0         1     1        6           2\n",
       "1         1     1        0           2\n",
       "2         1     1        1           1\n",
       "3         1     1        2           1\n",
       "4         1     1        3           1\n",
       "..      ...   ...      ...         ...\n",
       "726       1    12        4           2\n",
       "727       1    12        5           2\n",
       "728       1    12        6           2\n",
       "729       1    12        0           1\n",
       "730       1    12        1           2\n",
       "\n",
       "[731 rows x 4 columns]"
      ]
     },
     "execution_count": 6,
     "metadata": {},
     "output_type": "execute_result"
    }
   ],
   "source": [
    "drop_categorical_feature(df,numerical)"
   ]
  },
  {
   "cell_type": "code",
   "execution_count": 7,
   "metadata": {},
   "outputs": [],
   "source": [
    "def one_hot_encoder(list_feature_name,df):\n",
    "    from sklearn.preprocessing import OneHotEncoder\n",
    "    ohe = OneHotEncoder()\n",
    "    ohe.fit(df)\n",
    "    df_enc = pd.DataFrame(ohe.transform(df).toarray(), columns=ohe.get_feature_names())\n",
    "    return df_enc"
   ]
  },
  {
   "cell_type": "code",
   "execution_count": 8,
   "metadata": {},
   "outputs": [],
   "source": [
    "list_name=['season','mnth','weekday','weathersit']\n",
    "df1_enc=one_hot_encoder(list_name,drop_categorical_feature(df,numerical))"
   ]
  },
  {
   "cell_type": "code",
   "execution_count": 9,
   "metadata": {},
   "outputs": [],
   "source": [
    "df_hot=df1_enc.rename(columns={'x0_1':'spring','x0_2':'summer','x0_3':'fall','x0_4':'winter','x1_2':'Jan','x1_2':'Feb','x1_3':'Mar','x1_4':'Apr','x1_5':'May','x1_6':'Jun','x1_7':\"Jul\",'x1_8':'Avg','x1_9':'Sep','x1_10':'Oct','x1_11':'Nov','x1_12':'Dec',\n",
    "'x3_1':'Mist', 'x3_2':'Light Snow', 'x3_3':'Heavy Rain','x2_0':'Sunday','x2_1':'Monday', 'x2_2':'Tuseday', 'x2_3':'Wednesday', 'x2_4':'Tursday', 'x2_5':'Fryday', 'x2_6':'Saturday'})"
   ]
  },
  {
   "cell_type": "code",
   "execution_count": 10,
   "metadata": {},
   "outputs": [
    {
     "data": {
      "text/html": [
       "<div>\n",
       "<style scoped>\n",
       "    .dataframe tbody tr th:only-of-type {\n",
       "        vertical-align: middle;\n",
       "    }\n",
       "\n",
       "    .dataframe tbody tr th {\n",
       "        vertical-align: top;\n",
       "    }\n",
       "\n",
       "    .dataframe thead th {\n",
       "        text-align: right;\n",
       "    }\n",
       "</style>\n",
       "<table border=\"1\" class=\"dataframe\">\n",
       "  <thead>\n",
       "    <tr style=\"text-align: right;\">\n",
       "      <th></th>\n",
       "      <th>season</th>\n",
       "      <th>yr</th>\n",
       "      <th>mnth</th>\n",
       "      <th>holiday</th>\n",
       "      <th>weekday</th>\n",
       "      <th>workingday</th>\n",
       "      <th>weathersit</th>\n",
       "      <th>temp</th>\n",
       "      <th>hum</th>\n",
       "      <th>windspeed</th>\n",
       "      <th>...</th>\n",
       "      <th>Sunday</th>\n",
       "      <th>Monday</th>\n",
       "      <th>Tuseday</th>\n",
       "      <th>Wednesday</th>\n",
       "      <th>Tursday</th>\n",
       "      <th>Fryday</th>\n",
       "      <th>Saturday</th>\n",
       "      <th>Mist</th>\n",
       "      <th>Light Snow</th>\n",
       "      <th>Heavy Rain</th>\n",
       "    </tr>\n",
       "  </thead>\n",
       "  <tbody>\n",
       "    <tr>\n",
       "      <th>0</th>\n",
       "      <td>1</td>\n",
       "      <td>0</td>\n",
       "      <td>1</td>\n",
       "      <td>0</td>\n",
       "      <td>6</td>\n",
       "      <td>0</td>\n",
       "      <td>2</td>\n",
       "      <td>0.344167</td>\n",
       "      <td>0.805833</td>\n",
       "      <td>0.160446</td>\n",
       "      <td>...</td>\n",
       "      <td>0.0</td>\n",
       "      <td>0.0</td>\n",
       "      <td>0.0</td>\n",
       "      <td>0.0</td>\n",
       "      <td>0.0</td>\n",
       "      <td>0.0</td>\n",
       "      <td>1.0</td>\n",
       "      <td>0.0</td>\n",
       "      <td>1.0</td>\n",
       "      <td>0.0</td>\n",
       "    </tr>\n",
       "    <tr>\n",
       "      <th>1</th>\n",
       "      <td>1</td>\n",
       "      <td>0</td>\n",
       "      <td>1</td>\n",
       "      <td>0</td>\n",
       "      <td>0</td>\n",
       "      <td>0</td>\n",
       "      <td>2</td>\n",
       "      <td>0.363478</td>\n",
       "      <td>0.696087</td>\n",
       "      <td>0.248539</td>\n",
       "      <td>...</td>\n",
       "      <td>1.0</td>\n",
       "      <td>0.0</td>\n",
       "      <td>0.0</td>\n",
       "      <td>0.0</td>\n",
       "      <td>0.0</td>\n",
       "      <td>0.0</td>\n",
       "      <td>0.0</td>\n",
       "      <td>0.0</td>\n",
       "      <td>1.0</td>\n",
       "      <td>0.0</td>\n",
       "    </tr>\n",
       "    <tr>\n",
       "      <th>2</th>\n",
       "      <td>1</td>\n",
       "      <td>0</td>\n",
       "      <td>1</td>\n",
       "      <td>0</td>\n",
       "      <td>1</td>\n",
       "      <td>1</td>\n",
       "      <td>1</td>\n",
       "      <td>0.196364</td>\n",
       "      <td>0.437273</td>\n",
       "      <td>0.248309</td>\n",
       "      <td>...</td>\n",
       "      <td>0.0</td>\n",
       "      <td>1.0</td>\n",
       "      <td>0.0</td>\n",
       "      <td>0.0</td>\n",
       "      <td>0.0</td>\n",
       "      <td>0.0</td>\n",
       "      <td>0.0</td>\n",
       "      <td>1.0</td>\n",
       "      <td>0.0</td>\n",
       "      <td>0.0</td>\n",
       "    </tr>\n",
       "    <tr>\n",
       "      <th>3</th>\n",
       "      <td>1</td>\n",
       "      <td>0</td>\n",
       "      <td>1</td>\n",
       "      <td>0</td>\n",
       "      <td>2</td>\n",
       "      <td>1</td>\n",
       "      <td>1</td>\n",
       "      <td>0.200000</td>\n",
       "      <td>0.590435</td>\n",
       "      <td>0.160296</td>\n",
       "      <td>...</td>\n",
       "      <td>0.0</td>\n",
       "      <td>0.0</td>\n",
       "      <td>1.0</td>\n",
       "      <td>0.0</td>\n",
       "      <td>0.0</td>\n",
       "      <td>0.0</td>\n",
       "      <td>0.0</td>\n",
       "      <td>1.0</td>\n",
       "      <td>0.0</td>\n",
       "      <td>0.0</td>\n",
       "    </tr>\n",
       "    <tr>\n",
       "      <th>4</th>\n",
       "      <td>1</td>\n",
       "      <td>0</td>\n",
       "      <td>1</td>\n",
       "      <td>0</td>\n",
       "      <td>3</td>\n",
       "      <td>1</td>\n",
       "      <td>1</td>\n",
       "      <td>0.226957</td>\n",
       "      <td>0.436957</td>\n",
       "      <td>0.186900</td>\n",
       "      <td>...</td>\n",
       "      <td>0.0</td>\n",
       "      <td>0.0</td>\n",
       "      <td>0.0</td>\n",
       "      <td>1.0</td>\n",
       "      <td>0.0</td>\n",
       "      <td>0.0</td>\n",
       "      <td>0.0</td>\n",
       "      <td>1.0</td>\n",
       "      <td>0.0</td>\n",
       "      <td>0.0</td>\n",
       "    </tr>\n",
       "  </tbody>\n",
       "</table>\n",
       "<p>5 rows × 37 columns</p>\n",
       "</div>"
      ],
      "text/plain": [
       "   season  yr  mnth  holiday  weekday  workingday  weathersit      temp  \\\n",
       "0       1   0     1        0        6           0           2  0.344167   \n",
       "1       1   0     1        0        0           0           2  0.363478   \n",
       "2       1   0     1        0        1           1           1  0.196364   \n",
       "3       1   0     1        0        2           1           1  0.200000   \n",
       "4       1   0     1        0        3           1           1  0.226957   \n",
       "\n",
       "        hum  windspeed  ...  Sunday  Monday  Tuseday  Wednesday  Tursday  \\\n",
       "0  0.805833   0.160446  ...     0.0     0.0      0.0        0.0      0.0   \n",
       "1  0.696087   0.248539  ...     1.0     0.0      0.0        0.0      0.0   \n",
       "2  0.437273   0.248309  ...     0.0     1.0      0.0        0.0      0.0   \n",
       "3  0.590435   0.160296  ...     0.0     0.0      1.0        0.0      0.0   \n",
       "4  0.436957   0.186900  ...     0.0     0.0      0.0        1.0      0.0   \n",
       "\n",
       "   Fryday  Saturday  Mist  Light Snow  Heavy Rain  \n",
       "0     0.0       1.0   0.0         1.0         0.0  \n",
       "1     0.0       0.0   0.0         1.0         0.0  \n",
       "2     0.0       0.0   1.0         0.0         0.0  \n",
       "3     0.0       0.0   1.0         0.0         0.0  \n",
       "4     0.0       0.0   1.0         0.0         0.0  \n",
       "\n",
       "[5 rows x 37 columns]"
      ]
     },
     "execution_count": 10,
     "metadata": {},
     "output_type": "execute_result"
    }
   ],
   "source": [
    "# Concatenation of data_set with new df_frames after one_hote_encoder\n",
    "# if we have more feature to encode in list functon put all new datasets devided by coma\n",
    "df_transform = pd.concat([df,df_hot], axis=1)\n",
    "df_transform.head(5)"
   ]
  },
  {
   "cell_type": "code",
   "execution_count": 11,
   "metadata": {},
   "outputs": [],
   "source": [
    "def drop_categorical_feature(data,features_list):\n",
    "    df_modeling=data.drop(features_list, axis=1)\n",
    "    return df_modeling"
   ]
  },
  {
   "cell_type": "code",
   "execution_count": 12,
   "metadata": {},
   "outputs": [],
   "source": [
    "df_modeling=drop_categorical_feature(df_transform,['season','mnth','weekday','weathersit'])"
   ]
  },
  {
   "cell_type": "code",
   "execution_count": 13,
   "metadata": {},
   "outputs": [],
   "source": [
    "#Split dataset on train and test\n",
    "\n",
    "def split_data_set(data,dependant_feature,test_size):\n",
    "    from sklearn.model_selection import train_test_split\n",
    "    y=data[dependant_feature]\n",
    "    X=data.drop([dependant_feature],axis=1)\n",
    "    X_train, X_test, y_train, y_test = train_test_split(X, y, test_size=test_size,random_state=0)\n",
    "    return X_train,X_test,y_train,y_test"
   ]
  },
  {
   "cell_type": "code",
   "execution_count": 14,
   "metadata": {},
   "outputs": [],
   "source": [
    "X_train,X_test,y_train,y_test=split_data_set(df_modeling,\"cnt\",0.15)"
   ]
  },
  {
   "cell_type": "code",
   "execution_count": 15,
   "metadata": {},
   "outputs": [
    {
     "name": "stdout",
     "output_type": "stream",
     "text": [
      "X_train shape:(621, 32)\n",
      " y_train shape:(621,)\n",
      " X_test shape:(110, 32)\n",
      " y_test shape:(110,)\n"
     ]
    }
   ],
   "source": [
    "print(\"X_train shape:{}\\n y_train shape:{}\\n X_test shape:{}\\n y_test shape:{}\".format(X_train.shape,y_train.shape,X_test.shape,y_test.shape))\n"
   ]
  },
  {
   "cell_type": "markdown",
   "metadata": {},
   "source": [
    "# Ensemble method_ Stacking method"
   ]
  },
  {
   "cell_type": "markdown",
   "metadata": {},
   "source": [
    "Stacked generalization is a method for combining estimators to reduce their biases.\n",
    "More precisely, the predictions of each individual estimator are stacked together \n",
    "and used as input to a final estimator to compute the prediction. \n",
    "This final estimator is trained through cross-validation.\n",
    "The StackingClassifier and StackingRegressor provide such strategies \n",
    "which can be applied to classification and regression problems.\n",
    "The estimators parameter corresponds to the list of the estimators which are \n",
    "stacked together in parallel on the input data. It should be given as a list of names and estimators:"
   ]
  },
  {
   "cell_type": "code",
   "execution_count": 16,
   "metadata": {},
   "outputs": [],
   "source": [
    "from sklearn.ensemble import GradientBoostingRegressor\n",
    "from sklearn.ensemble import RandomForestRegressor\n",
    "from sklearn.linear_model import LinearRegression\n",
    "from sklearn.ensemble import VotingRegressor"
   ]
  },
  {
   "cell_type": "code",
   "execution_count": 17,
   "metadata": {},
   "outputs": [],
   "source": [
    "from sklearn.metrics import mean_absolute_error\n",
    "from sklearn.metrics import mean_squared_error\n",
    "from sklearn.metrics import r2_score"
   ]
  },
  {
   "cell_type": "code",
   "execution_count": 18,
   "metadata": {},
   "outputs": [],
   "source": [
    "from sklearn.metrics import r2_score\n",
    "from sklearn.linear_model import RidgeCV, LassoCV\n",
    "from sklearn.svm import SVR\n",
    "estimators = [('ridge', RidgeCV()),\n",
    "('lasso', LassoCV(random_state=42)),\n",
    "('svr', SVR(C=1, gamma=1e-6))]"
   ]
  },
  {
   "cell_type": "code",
   "execution_count": 19,
   "metadata": {},
   "outputs": [],
   "source": [
    "from sklearn.ensemble import GradientBoostingRegressor\n",
    "from sklearn.ensemble import StackingRegressor\n",
    "reg = StackingRegressor(\n",
    "estimators=estimators,\n",
    "final_estimator=GradientBoostingRegressor(random_state=42))"
   ]
  },
  {
   "cell_type": "code",
   "execution_count": 20,
   "metadata": {},
   "outputs": [
    {
     "data": {
      "text/plain": [
       "StackingRegressor(estimators=[('ridge',\n",
       "                               RidgeCV(alphas=array([ 0.1,  1. , 10. ]))),\n",
       "                              ('lasso', LassoCV(random_state=42)),\n",
       "                              ('svr', SVR(C=1, gamma=1e-06))],\n",
       "                  final_estimator=GradientBoostingRegressor(random_state=42))"
      ]
     },
     "execution_count": 20,
     "metadata": {},
     "output_type": "execute_result"
    }
   ],
   "source": [
    "reg.fit(X_train, y_train)"
   ]
  },
  {
   "cell_type": "code",
   "execution_count": 21,
   "metadata": {},
   "outputs": [
    {
     "name": "stdout",
     "output_type": "stream",
     "text": [
      "R2 score: 0.86\n"
     ]
    }
   ],
   "source": [
    "y_pred = reg.predict(X_test)\n",
    "print('R2 score: {:.2f}'.format(r2_score(y_test, y_pred)))"
   ]
  },
  {
   "cell_type": "code",
   "execution_count": 22,
   "metadata": {},
   "outputs": [
    {
     "name": "stdout",
     "output_type": "stream",
     "text": [
      "R2 score: 0.86\n"
     ]
    }
   ],
   "source": [
    "final_layer = StackingRegressor(\n",
    "estimators=[('rf', RandomForestRegressor(random_state=42)),\n",
    "('gbrt', GradientBoostingRegressor(random_state=42))],\n",
    "final_estimator=RidgeCV())\n",
    "multi_layer_regressor = StackingRegressor(\n",
    "estimators=[('ridge', RidgeCV()),\n",
    "('lasso', LassoCV(random_state=42)),\n",
    "('svr', SVR(C=1, gamma=1e-6, kernel='rbf'))],\n",
    "final_estimator=final_layer)\n",
    "\n",
    "multi_layer_regressor.fit(X_train, y_train)\n",
    "StackingRegressor(...)\n",
    "print('R2 score: {:.2f}'.format(multi_layer_regressor.score(X_test, y_test)))"
   ]
  },
  {
   "cell_type": "markdown",
   "metadata": {},
   "source": [
    "# Ensemble method _Voting Regressor"
   ]
  },
  {
   "cell_type": "raw",
   "metadata": {},
   "source": [
    "# The idea behind the VotingRegressor is to combine conceptually different machine learning regressors \n",
    "and return the average predicted values. Such a regressor can be useful for a set of equally well \n",
    "performing models in order to balance out their individual weaknesses."
   ]
  },
  {
   "cell_type": "code",
   "execution_count": 23,
   "metadata": {},
   "outputs": [
    {
     "name": "stdout",
     "output_type": "stream",
     "text": [
      "MAE        511.2475 for model GradientBoostingRegressor \n",
      "MSE        507977.2531 for model GradientBoostingRegressor \n",
      "R2 score:  0.89\n",
      "\n",
      "MAE        516.3848 for model RandomForestRegressor \n",
      "MSE        497769.1369 for model RandomForestRegressor \n",
      "R2 score:  0.89\n",
      "\n",
      "MAE        599.7909 for model LinearRegression \n",
      "MSE        660123.2455 for model LinearRegression \n",
      "R2 score:  0.86\n",
      "\n",
      "MAE        495.0143 for model Ensemble \n",
      "MSE        457942.9811 for model Ensemble \n",
      "R2 score:  0.90\n",
      "\n"
     ]
    }
   ],
   "source": [
    "\n",
    "reg1 = GradientBoostingRegressor(random_state=1)\n",
    "reg2 = RandomForestRegressor(random_state=1)\n",
    "reg3 = LinearRegression()\n",
    "ereg = VotingRegressor(estimators=[('gb', reg1), ('rf', reg2), ('lr', reg3)])\n",
    "ereg = ereg.fit(X_train, y_train)\n",
    "\n",
    "ypred=ereg.predict(X_test)\n",
    "\n",
    "reg1.fit(X_train, y_train)\n",
    "reg2.fit(X_train, y_train)\n",
    "reg3.fit(X_train, y_train)\n",
    "MAE_dict=[]\n",
    "MSE_dict=[]\n",
    "R2_dict=[]\n",
    "\n",
    "for reg, label in zip([reg1, reg2, reg3, ereg], ['GradientBoostingRegressor', 'RandomForestRegressor', 'LinearRegression', 'Ensemble']):\n",
    "    y_pred=reg.predict(X_test)\n",
    "    MAE= mean_absolute_error(y_test,y_pred)\n",
    "    MSE=mean_squared_error(y_test,y_pred)\n",
    "    r2=r2_score(y_test, y_pred)\n",
    "    MAE_dict.append(MAE)\n",
    "    MSE_dict.append(MSE)\n",
    "    R2_dict.append(r2_score(y_test, y_pred))\n",
    "    print(\"MAE       {: .4f} for model {} \".format(MAE, label))\n",
    "    print(\"MSE       {: .4f} for model {} \".format(MSE,label))\n",
    "    print('R2 score:  {:.2f}'.format(r2_score(y_test, y_pred)))\n",
    "    print()\n"
   ]
  },
  {
   "cell_type": "markdown",
   "metadata": {},
   "source": [
    "# Let's visualize resluts"
   ]
  },
  {
   "cell_type": "code",
   "execution_count": 24,
   "metadata": {},
   "outputs": [],
   "source": [
    "xt = X_test[:20]\n",
    "\n",
    "# Train classifiers\n",
    "reg1 = GradientBoostingRegressor(random_state=1)\n",
    "reg2 = RandomForestRegressor(random_state=1)\n",
    "reg3 = LinearRegression()\n",
    "\n",
    "reg1.fit(X_train, y_train)\n",
    "reg2.fit(X_train, y_train)\n",
    "reg3.fit(X_train, y_train)\n",
    "pred1 = reg1.predict(xt)\n",
    "pred2 = reg2.predict(xt)\n",
    "pred3 = reg3.predict(xt)\n",
    "pred4 = ereg.predict(xt)"
   ]
  },
  {
   "cell_type": "code",
   "execution_count": 25,
   "metadata": {},
   "outputs": [
    {
     "data": {
      "text/plain": [
       "<Figure size 432x288 with 0 Axes>"
      ]
     },
     "metadata": {},
     "output_type": "display_data"
    },
    {
     "data": {
      "image/png": "[encoded data removed]",
      "text/plain": [
       "<Figure size 720x576 with 1 Axes>"
      ]
     },
     "metadata": {
      "needs_background": "light"
     },
     "output_type": "display_data"
    }
   ],
   "source": [
    "plt.figure()\n",
    "plt.figure(figsize=(10,8))\n",
    "plt.plot(pred1, 'gd', label='GradientBoostingRegressor')\n",
    "plt.plot(pred2, 'b^', label='RandomForestRegressor')\n",
    "plt.plot(pred3, 'ys', label='LinearRegression')\n",
    "plt.plot(pred4, 'r*', ms=10, label='VotingRegressor')\n",
    "plt.tick_params(axis='x', which='both', bottom=False, top=False,labelbottom=False)\n",
    "plt.ylabel('predicted')\n",
    "plt.xlabel('training samples')\n",
    "plt.legend(loc=\"best\")\n",
    "plt.title('Regressor predictions and their average')\n",
    "plt.show()"
   ]
  },
  {
   "cell_type": "markdown",
   "metadata": {},
   "source": [
    "# Conclusion: Ensemble method _Voting Regressor gives the best results"
   ]
  },
  {
   "cell_type": "raw",
   "metadata": {},
   "source": [
    "df_error=pd.DataFrame({'MSE':MAE_dict,'MAE':MSE_dict,'R2':R2_dict,'model':['GradientBoostingRegressor', 'RandomForestRegressor', 'LinearRegression', 'VOTING REGRESSOR']})"
   ]
  },
  {
   "cell_type": "code",
   "execution_count": 27,
   "metadata": {},
   "outputs": [
    {
     "data": {
      "text/html": [
       "<div>\n",
       "<style scoped>\n",
       "    .dataframe tbody tr th:only-of-type {\n",
       "        vertical-align: middle;\n",
       "    }\n",
       "\n",
       "    .dataframe tbody tr th {\n",
       "        vertical-align: top;\n",
       "    }\n",
       "\n",
       "    .dataframe thead th {\n",
       "        text-align: right;\n",
       "    }\n",
       "</style>\n",
       "<table border=\"1\" class=\"dataframe\">\n",
       "  <thead>\n",
       "    <tr style=\"text-align: right;\">\n",
       "      <th></th>\n",
       "      <th>MSE</th>\n",
       "      <th>MAE</th>\n",
       "      <th>R2</th>\n",
       "      <th>model</th>\n",
       "    </tr>\n",
       "  </thead>\n",
       "  <tbody>\n",
       "    <tr>\n",
       "      <th>0</th>\n",
       "      <td>511.247545</td>\n",
       "      <td>507977.253133</td>\n",
       "      <td>0.890594</td>\n",
       "      <td>GradientBoostingRegressor</td>\n",
       "    </tr>\n",
       "    <tr>\n",
       "      <th>1</th>\n",
       "      <td>516.384818</td>\n",
       "      <td>497769.136897</td>\n",
       "      <td>0.892792</td>\n",
       "      <td>RandomForestRegressor</td>\n",
       "    </tr>\n",
       "    <tr>\n",
       "      <th>2</th>\n",
       "      <td>599.790909</td>\n",
       "      <td>660123.245455</td>\n",
       "      <td>0.857825</td>\n",
       "      <td>LinearRegression</td>\n",
       "    </tr>\n",
       "    <tr>\n",
       "      <th>3</th>\n",
       "      <td>495.014334</td>\n",
       "      <td>457942.981055</td>\n",
       "      <td>0.901370</td>\n",
       "      <td>Ensemble</td>\n",
       "    </tr>\n",
       "  </tbody>\n",
       "</table>\n",
       "</div>"
      ],
      "text/plain": [
       "          MSE            MAE        R2                      model\n",
       "0  511.247545  507977.253133  0.890594  GradientBoostingRegressor\n",
       "1  516.384818  497769.136897  0.892792      RandomForestRegressor\n",
       "2  599.790909  660123.245455  0.857825           LinearRegression\n",
       "3  495.014334  457942.981055  0.901370                   Ensemble"
      ]
     },
     "execution_count": 27,
     "metadata": {},
     "output_type": "execute_result"
    }
   ],
   "source": [
    "df_error"
   ]
  },
  {
   "cell_type": "code",
   "execution_count": null,
   "metadata": {},
   "outputs": [],
   "source": []
  }
 ],
 "metadata": {
  "kernelspec": {
   "display_name": "Python 3",
   "language": "python",
   "name": "python3"
  },
  "language_info": {
   "codemirror_mode": {
    "name": "ipython",
    "version": 3
   },
   "file_extension": ".py",
   "mimetype": "text/x-python",
   "name": "python",
   "nbconvert_exporter": "python",
   "pygments_lexer": "ipython3",
   "version": "3.7.6"
  }
 },
 "nbformat": 4,
 "nbformat_minor": 4
}
